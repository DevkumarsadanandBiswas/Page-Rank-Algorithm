{
 "cells": [
  {
   "cell_type": "markdown",
   "id": "ce8a143b-caca-4fc4-acd3-f0233e0a2610",
   "metadata": {},
   "source": [
    "Implement Page Rank Algorithm. (Use python or beautiful soup for \n",
    "implementation)."
   ]
  },
  {
   "cell_type": "code",
   "execution_count": 3,
   "id": "39e59490-cc38-42ed-974c-31e494e509d9",
   "metadata": {},
   "outputs": [
    {
     "name": "stdout",
     "output_type": "stream",
     "text": [
      "Requirement already satisfied: beautifulsoup4 in c:\\users\\dell\\anaconda3\\lib\\site-packages (4.12.3)\n",
      "Requirement already satisfied: requests in c:\\users\\dell\\anaconda3\\lib\\site-packages (2.32.2)\n",
      "Requirement already satisfied: soupsieve>1.2 in c:\\users\\dell\\anaconda3\\lib\\site-packages (from beautifulsoup4) (2.5)\n",
      "Requirement already satisfied: charset-normalizer<4,>=2 in c:\\users\\dell\\anaconda3\\lib\\site-packages (from requests) (2.0.4)\n",
      "Requirement already satisfied: idna<4,>=2.5 in c:\\users\\dell\\anaconda3\\lib\\site-packages (from requests) (3.7)\n",
      "Requirement already satisfied: urllib3<3,>=1.21.1 in c:\\users\\dell\\anaconda3\\lib\\site-packages (from requests) (2.2.2)\n",
      "Requirement already satisfied: certifi>=2017.4.17 in c:\\users\\dell\\anaconda3\\lib\\site-packages (from requests) (2024.7.4)\n",
      "Note: you may need to restart the kernel to use updated packages.\n"
     ]
    }
   ],
   "source": [
    "pip install beautifulsoup4 requests"
   ]
  },
  {
   "cell_type": "code",
   "execution_count": 4,
   "id": "62299aba-93e1-430b-8eec-b443b4f04b38",
   "metadata": {},
   "outputs": [],
   "source": [
    "import requests\n",
    "from bs4 import BeautifulSoup\n",
    "import numpy as np"
   ]
  },
  {
   "cell_type": "code",
   "execution_count": 8,
   "id": "4ea19ad4-ef3f-4d86-85a2-5ca962611573",
   "metadata": {},
   "outputs": [],
   "source": [
    "# Step 1: Scrape a small set of web pages\n",
    "def get_links(url):\n",
    "    links = []\n",
    "    try:\n",
    "        response = requests.get(url)\n",
    "        soup = BeautifulSoup(response.text, 'html.parser')\n",
    "        for link in soup.find_all('a', href=True):\n",
    "            links.append(link['href'])\n",
    "    except Exception as e:\n",
    "        print(f\"Error fetching {url}: {e}\")\n",
    "    return links"
   ]
  },
  {
   "cell_type": "code",
   "execution_count": 10,
   "id": "dd080857-044e-4242-9761-39d311767a28",
   "metadata": {},
   "outputs": [],
   "source": [
    "# Step 2: Create a small web graph\n",
    "urls = [\n",
    "    'https://www.wikipedia.org/',\n",
    "    'https://en.wikipedia.org/wiki/Web_scraping',\n",
    "    'https://en.wikipedia.org/wiki/Pagerank',\n",
    "    'https://en.wikipedia.org/wiki/Algorithm',\n",
    "]\n",
    "\n",
    "link_graph = {url: get_links(url) for url in urls}"
   ]
  },
  {
   "cell_type": "code",
   "execution_count": 12,
   "id": "449630d8-9e47-4c94-b3c8-7e30a0d270e3",
   "metadata": {},
   "outputs": [],
   "source": [
    "# Step 3: Build the adjacency matrix\n",
    "n = len(urls)\n",
    "adjacency_matrix = np.zeros((n, n))\n",
    "\n",
    "url_index = {url: i for i, url in enumerate(urls)}\n",
    "\n",
    "for url, links in link_graph.items():\n",
    "    for link in links:\n",
    "        if link in url_index:\n",
    "            adjacency_matrix[url_index[url]][url_index[link]] = 1"
   ]
  },
  {
   "cell_type": "code",
   "execution_count": 14,
   "id": "2d238378-3b2f-4a2a-b5e1-a204075c7786",
   "metadata": {},
   "outputs": [
    {
     "name": "stderr",
     "output_type": "stream",
     "text": [
      "C:\\Users\\DELL\\AppData\\Local\\Temp\\ipykernel_6960\\3160671594.py:6: RuntimeWarning: invalid value encountered in divide\n",
      "  new_pagerank = (1 - d) / n + d * (adjacency_matrix.T @ pagerank) / np.sum(adjacency_matrix.T @ pagerank)\n"
     ]
    }
   ],
   "source": [
    "# Step 4: Calculate PageRank\n",
    "def calculate_pagerank(adjacency_matrix, d=0.85, num_iterations=100):\n",
    "    n = adjacency_matrix.shape[0]\n",
    "    pagerank = np.ones(n) / n\n",
    "    for _ in range(num_iterations):\n",
    "        new_pagerank = (1 - d) / n + d * (adjacency_matrix.T @ pagerank) / np.sum(adjacency_matrix.T @ pagerank)\n",
    "        pagerank = new_pagerank\n",
    "    return pagerank\n",
    "\n",
    "pagerank_values = calculate_pagerank(adjacency_matrix)\n",
    "pagerank_values_dict = {url: pagerank_values[i] for i, url in enumerate(urls)}"
   ]
  },
  {
   "cell_type": "code",
   "execution_count": 16,
   "id": "4fa7764a-b79c-42ba-81cb-926e6f83be3c",
   "metadata": {},
   "outputs": [
    {
     "name": "stdout",
     "output_type": "stream",
     "text": [
      "PageRank Values:\n",
      "https://www.wikipedia.org/: nan\n",
      "https://en.wikipedia.org/wiki/Web_scraping: nan\n",
      "https://en.wikipedia.org/wiki/Pagerank: nan\n",
      "https://en.wikipedia.org/wiki/Algorithm: nan\n"
     ]
    }
   ],
   "source": [
    "# Step 5: Output the results\n",
    "print(\"PageRank Values:\")\n",
    "for url, rank in pagerank_values_dict.items():\n",
    "    print(f\"{url}: {rank:.4f}\")"
   ]
  },
  {
   "cell_type": "code",
   "execution_count": null,
   "id": "9ecf2ce5-059c-43d1-a62a-727c93c88827",
   "metadata": {},
   "outputs": [],
   "source": []
  }
 ],
 "metadata": {
  "kernelspec": {
   "display_name": "Python 3 (ipykernel)",
   "language": "python",
   "name": "python3"
  },
  "language_info": {
   "codemirror_mode": {
    "name": "ipython",
    "version": 3
   },
   "file_extension": ".py",
   "mimetype": "text/x-python",
   "name": "python",
   "nbconvert_exporter": "python",
   "pygments_lexer": "ipython3",
   "version": "3.12.4"
  }
 },
 "nbformat": 4,
 "nbformat_minor": 5
}
